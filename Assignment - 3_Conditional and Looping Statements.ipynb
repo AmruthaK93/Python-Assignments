{
 "cells": [
  {
   "cell_type": "markdown",
   "id": "85a8fd82-d5e3-494e-9a16-4307bbc30b9f",
   "metadata": {},
   "source": [
    "## Exercise 1"
   ]
  },
  {
   "cell_type": "raw",
   "id": "d18daea8-2d1a-4565-8f62-182078e5360d",
   "metadata": {},
   "source": [
    "Write a program that reads an integer value between 1 and 12 from the user and prints output the corresponding month of the year."
   ]
  },
  {
   "cell_type": "code",
   "execution_count": 14,
   "id": "e44a8951-e3ed-4df0-a5c3-9fb4410df312",
   "metadata": {},
   "outputs": [
    {
     "name": "stdin",
     "output_type": "stream",
     "text": [
      "Enter a number between 1 and 12:  15\n"
     ]
    },
    {
     "name": "stdout",
     "output_type": "stream",
     "text": [
      "Invalid input! Please enter a number between 1 and 12.\n"
     ]
    },
    {
     "name": "stdin",
     "output_type": "stream",
     "text": [
      "Enter a number between 1 and 12:  5\n"
     ]
    },
    {
     "name": "stdout",
     "output_type": "stream",
     "text": [
      "The month is: May\n"
     ]
    }
   ],
   "source": [
    "months = ['January','February','March','April','May','June','July','August','September','October','November','December']\n",
    "while True:\n",
    "    month_number = int(input('Enter a number between 1 and 12:'))\n",
    "    for i in range(1,13):\n",
    "        if month_number == i:\n",
    "            print(f\"The month is: {months[i-1]}\")\n",
    "            break\n",
    "    else:\n",
    "        print(\"Invalid input! Please enter a number between 1 and 12.\")\n",
    "        continue\n",
    "    break"
   ]
  },
  {
   "cell_type": "markdown",
   "id": "6efb7bc6-22fd-4198-a70a-18abdef41d90",
   "metadata": {},
   "source": [
    "## Exercise 2"
   ]
  },
  {
   "cell_type": "raw",
   "id": "00bda99e-810e-4f1b-9502-f1d084bd0031",
   "metadata": {},
   "source": [
    "A certain cinema currently sells tickets for a full price of 6 pounds, but always sells tickets for half price to people who are less than 16 years old, and for a third of the price for people who are 60 years old or more."
   ]
  },
  {
   "cell_type": "code",
   "execution_count": 20,
   "id": "4ae65a4b-bfad-4d90-a5e0-122212bbcd8d",
   "metadata": {},
   "outputs": [
    {
     "name": "stdin",
     "output_type": "stream",
     "text": [
      "Enter your Age : 56\n"
     ]
    },
    {
     "name": "stdout",
     "output_type": "stream",
     "text": [
      "your ticket cost is : 6\n"
     ]
    }
   ],
   "source": [
    "ticket_price = 6\n",
    "age = int(input('Enter your Age :'))\n",
    "if age < 16:\n",
    "    print('your ticket cost is :',ticket_price/2)\n",
    "elif age >= 60:\n",
    "    print('your ticket cost is :',ticket_price/3)\n",
    "else :\n",
    "    print('your ticket cost is :',ticket_price)"
   ]
  },
  {
   "cell_type": "markdown",
   "id": "ae932273-c199-4428-abca-017a326ebb87",
   "metadata": {},
   "source": [
    " ## Exercise 3"
   ]
  },
  {
   "cell_type": "raw",
   "id": "0ffae36d-ffb4-4da8-8c6a-c114b7b1e639",
   "metadata": {},
   "source": [
    "Write a program to calculate your BMI and give weight status. Body Mass Index (BMI) is an internationally used measurement to check if you are a healthy weight for your height.The metric BMI formula accepts weight in kilograms and height in meters: BMI= weight(kg)/height2(m2) BMI Weight Status Categories table BMI range - kg/m2 Category Below 18.5 Underweight 18.5 -24.9 Normal 25 - 29.9 Overweight 30 & Above Obese"
   ]
  },
  {
   "cell_type": "code",
   "execution_count": 26,
   "id": "c8812bff-2dcc-475c-9bcc-1ea74d71138b",
   "metadata": {},
   "outputs": [
    {
     "name": "stdin",
     "output_type": "stream",
     "text": [
      "Enter your weight in (kg):  75\n",
      "Enter your height in (m):  1.70\n"
     ]
    },
    {
     "name": "stdout",
     "output_type": "stream",
     "text": [
      "Your BMI is: 25.95\n",
      "You are in the 'overweight' range.\n"
     ]
    }
   ],
   "source": [
    "weight = float(input('Enter your weight in (kg): '))\n",
    "height = float(input('Enter your height in (m): '))\n",
    "bmi = weight / (height ** 2)\n",
    "print(f'Your BMI is: {bmi:.2f}')\n",
    "if bmi < 18.5:\n",
    "    print(\"You are in the 'underweight' range.\")\n",
    "elif 18.5 <= bmi < 25:\n",
    "    print(\"You are in the 'normal' range.\")\n",
    "elif 25 <= bmi < 30:\n",
    "    print(\"You are in the 'overweight' range.\")\n",
    "else:\n",
    "    print(\"You are in the 'obese' range.\")\n"
   ]
  },
  {
   "cell_type": "markdown",
   "id": "1913bacd-27b4-4136-b0f3-9db86f6150a1",
   "metadata": {},
   "source": [
    "## Exercise 4 "
   ]
  },
  {
   "cell_type": "raw",
   "id": "86f59691-7a98-419d-8ac5-1a93fa244ea3",
   "metadata": {},
   "source": [
    "Write a Python program to receive 3 numbers from the user and print the greatest among them."
   ]
  },
  {
   "cell_type": "code",
   "execution_count": 42,
   "id": "171fedc4-47e9-4862-aae2-7658d34d1399",
   "metadata": {},
   "outputs": [
    {
     "name": "stdin",
     "output_type": "stream",
     "text": [
      "Enter first number : 5\n",
      "Enter second number : 85\n",
      "Enter third number : 5\n"
     ]
    },
    {
     "name": "stdout",
     "output_type": "stream",
     "text": [
      "The greatest number is: 85.0\n"
     ]
    }
   ],
   "source": [
    "x = float(input('Enter first number :'))\n",
    "y = float(input('Enter second number :'))\n",
    "z = float(input('Enter third number :'))\n",
    "if x > y and x > z:  \n",
    "    greatest = x\n",
    "    print(f\"The greatest number is: {greatest}\")\n",
    "elif y > x and y > z:\n",
    "    greatest = y\n",
    "    print(f\"The greatest number is: {greatest}\")\n",
    "elif z > x and z > y:\n",
    "    greatest = z\n",
    "    print(f\"The greatest number is: {greatest}\")\n",
    "else:\n",
    "    print('All the numbers are equal')\n",
    "       "
   ]
  },
  {
   "cell_type": "markdown",
   "id": "a4accac0-be77-4423-8a2c-9d7050b7150b",
   "metadata": {},
   "source": [
    "## Exercise 5"
   ]
  },
  {
   "cell_type": "raw",
   "id": "b4527eb9-1ff3-4e65-9045-99978b36d92c",
   "metadata": {},
   "source": [
    "Find the factorial of a given number using loops(note the number is received from the user) "
   ]
  },
  {
   "cell_type": "code",
   "execution_count": 2,
   "id": "6a757c47-2d80-4e8c-b215-542e23e5d6b4",
   "metadata": {},
   "outputs": [
    {
     "name": "stdin",
     "output_type": "stream",
     "text": [
      "Enter a number 0\n"
     ]
    },
    {
     "name": "stdout",
     "output_type": "stream",
     "text": [
      "The factorial of 0 is : 1\n"
     ]
    }
   ],
   "source": [
    "number = int(input('Enter a number'))\n",
    "factorial = 1\n",
    "if number < 0:\n",
    "    print('factorial of negative number is not defined')\n",
    "else:\n",
    "    for i in range(1,number+1):\n",
    "        factorial*=i\n",
    "    print(f'The factorial of {number} is : {factorial}')"
   ]
  },
  {
   "cell_type": "markdown",
   "id": "413b0e3d-67a5-4f38-9e6a-67bdad0eb166",
   "metadata": {},
   "source": [
    "## Exercise 6 "
   ]
  },
  {
   "cell_type": "raw",
   "id": "66f5bf9b-942c-44b3-9c13-6bed849ecda7",
   "metadata": {},
   "source": [
    "Reverse a number using while loop"
   ]
  },
  {
   "cell_type": "code",
   "execution_count": 21,
   "id": "3238dcbc-4d99-44d5-8753-b1a9c0e2c696",
   "metadata": {},
   "outputs": [
    {
     "name": "stdin",
     "output_type": "stream",
     "text": [
      "Enter a number : 123\n"
     ]
    },
    {
     "name": "stdout",
     "output_type": "stream",
     "text": [
      "Reversed number is : 321\n"
     ]
    }
   ],
   "source": [
    "number = int(input('Enter a number :'))\n",
    "reverse = 0\n",
    "while number > 0:\n",
    "    last_digit = number % 10\n",
    "    reverse = reverse * 10 + last_digit\n",
    "    number = number // 10\n",
    "print(f'Reversed number is : {reverse}')\n",
    "\n",
    " \n",
    "    "
   ]
  },
  {
   "cell_type": "markdown",
   "id": "065e93b1-2f79-4f28-90ca-5b7f83a5cba8",
   "metadata": {},
   "source": [
    "##  Exercise 7 "
   ]
  },
  {
   "cell_type": "raw",
   "id": "54cb8387-7819-4e65-8608-3add6b65c295",
   "metadata": {},
   "source": [
    "Finding the multiples of a number using loop"
   ]
  },
  {
   "cell_type": "code",
   "execution_count": 1,
   "id": "fad69914-032b-4861-a311-90d513d29a1d",
   "metadata": {},
   "outputs": [
    {
     "name": "stdin",
     "output_type": "stream",
     "text": [
      "Enter a number : 5\n",
      "Enter how many multiples : 4\n"
     ]
    },
    {
     "name": "stdout",
     "output_type": "stream",
     "text": [
      "5\n",
      "10\n",
      "15\n",
      "20\n"
     ]
    }
   ],
   "source": [
    "number = int(input('Enter a number :'))\n",
    "limit = int(input('Enter how many multiples :'))\n",
    "for i in range(1, limit + 1):\n",
    "    multiple = number * i\n",
    "    print(multiple)"
   ]
  },
  {
   "cell_type": "markdown",
   "id": "e7d76788-b3a6-476a-a9b6-4806249e9fd5",
   "metadata": {},
   "source": [
    "## Exercise 8 "
   ]
  },
  {
   "cell_type": "raw",
   "id": "630d577b-768f-4f08-a150-7814d371d866",
   "metadata": {},
   "source": [
    "Write a program to print the inputted value as it is and break the loop if the value is 'done'."
   ]
  },
  {
   "cell_type": "code",
   "execution_count": 6,
   "id": "441e09df-731c-4bca-9a7c-0c4196634f93",
   "metadata": {},
   "outputs": [
    {
     "name": "stdin",
     "output_type": "stream",
     "text": [
      "Enter a input : hello there\n"
     ]
    },
    {
     "name": "stdout",
     "output_type": "stream",
     "text": [
      "User Input is : hello there\n"
     ]
    },
    {
     "name": "stdin",
     "output_type": "stream",
     "text": [
      "Enter a input : finished\n"
     ]
    },
    {
     "name": "stdout",
     "output_type": "stream",
     "text": [
      "User Input is : finished\n"
     ]
    },
    {
     "name": "stdin",
     "output_type": "stream",
     "text": [
      "Enter a input : done\n"
     ]
    },
    {
     "name": "stdout",
     "output_type": "stream",
     "text": [
      "Done\n"
     ]
    }
   ],
   "source": [
    "while True:\n",
    "    user_input = input('Enter a input :')\n",
    "    if user_input == 'done':\n",
    "        print('Done')\n",
    "        break\n",
    "    else:\n",
    "        print(f'User Input is : {user_input}')\n",
    "       \n",
    "  "
   ]
  },
  {
   "cell_type": "markdown",
   "id": "8846cdc2-60ba-4b29-9e23-fe915bb63f8c",
   "metadata": {},
   "source": [
    "##  Exercise 9 "
   ]
  },
  {
   "cell_type": "raw",
   "id": "b53ca2be-0f06-4600-80db-78063e13f389",
   "metadata": {},
   "source": [
    "Write a program that prints the numbers from 1 to 10. But for multiples of three print \"Fizz\" instead of the number and for the multiple of five print \"Buzz\". For numbers which are multiples of both three and five print \"FizzBuzz\" "
   ]
  },
  {
   "cell_type": "code",
   "execution_count": 12,
   "id": "bead5a88-9a7a-41f3-bb74-d1e6858908fc",
   "metadata": {},
   "outputs": [
    {
     "name": "stdout",
     "output_type": "stream",
     "text": [
      "1\n",
      "2\n",
      "Fizz\n",
      "4\n",
      "Buzz\n",
      "Fizz\n",
      "7\n",
      "8\n",
      "Fizz\n",
      "Buzz\n"
     ]
    }
   ],
   "source": [
    "for i in range(1,11):\n",
    "    if i%3 == 0:\n",
    "        print('Fizz')\n",
    "    elif i%5 ==0:\n",
    "        print('Buzz')\n",
    "    elif i%3 and i%5 == 0:\n",
    "        print('FizzBuzz')\n",
    "    else:\n",
    "        print(i)"
   ]
  },
  {
   "cell_type": "markdown",
   "id": "96098c9b-9edb-4d23-a4e1-06769bc54bc9",
   "metadata": {},
   "source": [
    "##  Exercise 10 "
   ]
  },
  {
   "cell_type": "raw",
   "id": "cbe01273-0789-452c-89f0-1adafe95e70e",
   "metadata": {},
   "source": [
    "Write a program to print the following pattern: 5 4 3 2 1\n",
    "                                                4 3 2 1 \n",
    "                                                3 2 1 \n",
    "                                                2 1 \n",
    "                                                1"
   ]
  },
  {
   "cell_type": "code",
   "execution_count": 14,
   "id": "56bb0726-42bb-4725-a665-c2f082ac6b1f",
   "metadata": {},
   "outputs": [
    {
     "name": "stdout",
     "output_type": "stream",
     "text": [
      "5 4 3 2 1 \n",
      "4 3 2 1 \n",
      "3 2 1 \n",
      "2 1 \n",
      "1 \n"
     ]
    }
   ],
   "source": [
    "for i in range(5, 0, -1):\n",
    "    for j in range(i, 0, -1):\n",
    "        print(j, end=\" \")\n",
    "    print()  \n"
   ]
  },
  {
   "cell_type": "code",
   "execution_count": null,
   "id": "bd2b80d3-24ad-4265-9487-e5429fca054a",
   "metadata": {},
   "outputs": [],
   "source": []
  }
 ],
 "metadata": {
  "kernelspec": {
   "display_name": "Python 3 (ipykernel)",
   "language": "python",
   "name": "python3"
  },
  "language_info": {
   "codemirror_mode": {
    "name": "ipython",
    "version": 3
   },
   "file_extension": ".py",
   "mimetype": "text/x-python",
   "name": "python",
   "nbconvert_exporter": "python",
   "pygments_lexer": "ipython3",
   "version": "3.12.7"
  }
 },
 "nbformat": 4,
 "nbformat_minor": 5
}
