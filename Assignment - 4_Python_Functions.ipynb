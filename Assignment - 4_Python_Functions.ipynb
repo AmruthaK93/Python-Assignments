{
 "cells": [
  {
   "cell_type": "raw",
   "id": "2bae0180-d6e1-4fa4-86c5-5b49e9922763",
   "metadata": {},
   "source": [
    "1.  What does the len() function do in Python? \n",
    "    Write a code example using len() to find the length of a list."
   ]
  },
  {
   "cell_type": "code",
   "execution_count": 8,
   "id": "da87c436-26ac-4707-bcde-21cfb7e20b8c",
   "metadata": {},
   "outputs": [
    {
     "name": "stdout",
     "output_type": "stream",
     "text": [
      " length of my_list is : 5\n"
     ]
    }
   ],
   "source": [
    "# In Python, the len() function is used to get the length of an object. \n",
    "# It returns the number of items in an iterable like a string, list, tuple, or dictionary.\n",
    "\n",
    "\n",
    "my_list = [10,20,30,40,50]\n",
    "length = len(my_list)\n",
    "print(f' length of my_list is : {length}')"
   ]
  },
  {
   "cell_type": "raw",
   "id": "df6d2f18-dd2f-4169-afcc-acb80c8ca0c3",
   "metadata": {},
   "source": [
    "2. Write a Python function greet(name) that takes a person's name as input and prints \"Hello, [name]!\"."
   ]
  },
  {
   "cell_type": "code",
   "execution_count": 7,
   "id": "6dcc0136-0b8e-47cc-abc4-6fd5f48b79c5",
   "metadata": {},
   "outputs": [
    {
     "name": "stdout",
     "output_type": "stream",
     "text": [
      " Hello, Amrutha!\n"
     ]
    }
   ],
   "source": [
    "def greet(name):\n",
    "    print(f' Hello, {name}!')\n",
    "greet('Amrutha')"
   ]
  },
  {
   "cell_type": "raw",
   "id": "c36f9e39-5240-432a-9787-eaff439c8f4d",
   "metadata": {},
   "source": [
    "3. Write a Python function find_maximum(numbers) that takes a list of integers and returns the maximum value without using the built-in max() function.    Use a loop to iterate through the list and compare values."
   ]
  },
  {
   "cell_type": "code",
   "execution_count": 6,
   "id": "ef1c3ecb-ba9a-49a3-b9ea-f6e0fe3421ba",
   "metadata": {},
   "outputs": [
    {
     "name": "stdin",
     "output_type": "stream",
     "text": [
      "enter list of integers with space :  12 56 85 42 96 5 78 6 11\n"
     ]
    },
    {
     "name": "stdout",
     "output_type": "stream",
     "text": [
      "The maximum value is: 96\n"
     ]
    }
   ],
   "source": [
    "def find_maximum(numbers):\n",
    "    maximum = numbers[0]\n",
    "    for i in numbers:\n",
    "        if i > maximum:\n",
    "            maximum = i                           \n",
    "    return maximum\n",
    "user_input = input('enter list of integers with space : ')\n",
    "numbers = [int(x) for x in user_input.split()]\n",
    "print(\"The maximum value is:\", find_maximum(numbers))         \n",
    "       \n",
    "   "
   ]
  },
  {
   "cell_type": "raw",
   "id": "c9fe1967-83d2-4988-9433-8dc8d19b8bf8",
   "metadata": {},
   "source": [
    "4. Explain the difference between local and global variables in a Python function.\n",
    "    Write a program where a global variable and a local variable have the same name and show how Python differentiates between them."
   ]
  },
  {
   "cell_type": "code",
   "execution_count": 19,
   "id": "4aa42876-fe55-4f68-96b1-816d2227b5ac",
   "metadata": {},
   "outputs": [],
   "source": [
    "# In Python, the difference between local and global variables comes down to where they are defined and how they can be accessed within the program.\n",
    "\n",
    "# Local Variables:\n",
    "# A local variable is defined inside a function and can only be accessed within that function.\n",
    "# Its scope is limited to the function in which it is defined.\n",
    "# Once the function finishes execution, the local variable is destroyed and is no longer available.\n",
    "\n",
    "# Global Variables:\n",
    "# A global variable is defined outside of any function, typically at the top level of the script.\n",
    "# It can be accessed and modified by any function within the program, making its scope global to the entire script.\n",
    "# Global variables remain in memory for the lifetime of the program.\n",
    "# To modify a global variable from inside a function, you need to use the global keyword."
   ]
  },
  {
   "cell_type": "code",
   "execution_count": 4,
   "id": "945dda01-ef29-4ce1-b290-5b35bc4d78a2",
   "metadata": {},
   "outputs": [
    {
     "name": "stdout",
     "output_type": "stream",
     "text": [
      "inside function local x is : 30\n",
      "outside function global x is : 10\n"
     ]
    }
   ],
   "source": [
    "x = 10\n",
    "def display():\n",
    "    x = 20\n",
    "    x += 10\n",
    "    print(f'inside function local x is : {x}')\n",
    "display()\n",
    "print(f'outside function global x is : {x}')"
   ]
  },
  {
   "cell_type": "raw",
   "id": "26a9a322-d83c-44d1-b04e-7a2657e51f06",
   "metadata": {},
   "source": [
    "6. Create a function calculate_area(length, width=5) that calculates the area of a rectangle. If only the length is provided, the function should assume the width is 5. Show how the function behaves when called with and without the width argument"
   ]
  },
  {
   "cell_type": "code",
   "execution_count": 5,
   "id": "ac71ffdb-51c1-4c80-a525-edec4153e143",
   "metadata": {},
   "outputs": [
    {
     "name": "stdout",
     "output_type": "stream",
     "text": [
      "Area of rectangle with length 10 and without width = 50\n",
      "Area of rectangle with length 10 and width 8 = 80\n"
     ]
    }
   ],
   "source": [
    "def calculate_area(length,width=5):\n",
    "    area = length * width\n",
    "    return area\n",
    "rect_area1 = calculate_area(10)\n",
    "print(f'Area of rectangle with length 10 and without width = {rect_area1}')\n",
    "rect_area2 = calculate_area(length=10,width=8)\n",
    "print(f'Area of rectangle with length 10 and width 8 = {rect_area2}')\n"
   ]
  },
  {
   "cell_type": "code",
   "execution_count": null,
   "id": "d71d3c57-952d-4f91-ab31-d63b20aad97e",
   "metadata": {},
   "outputs": [],
   "source": []
  }
 ],
 "metadata": {
  "kernelspec": {
   "display_name": "Python 3 (ipykernel)",
   "language": "python",
   "name": "python3"
  },
  "language_info": {
   "codemirror_mode": {
    "name": "ipython",
    "version": 3
   },
   "file_extension": ".py",
   "mimetype": "text/x-python",
   "name": "python",
   "nbconvert_exporter": "python",
   "pygments_lexer": "ipython3",
   "version": "3.12.7"
  }
 },
 "nbformat": 4,
 "nbformat_minor": 5
}
