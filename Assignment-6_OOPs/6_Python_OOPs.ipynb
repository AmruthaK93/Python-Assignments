{
 "cells": [
  {
   "cell_type": "code",
   "execution_count": 4,
   "id": "cab0c9af-3441-4a9d-a907-4f311cc12c9d",
   "metadata": {},
   "outputs": [
    {
     "name": "stdout",
     "output_type": "stream",
     "text": [
      "Core Course Info:\n",
      "Course Code: CS101\n",
      "Course Name: Introduction to Computer Science\n",
      "Credit Hours: 3\n",
      "Required for Major: True\n",
      "\n",
      "Elective Course Info:\n",
      "Course Code: ENG201\n",
      "Course Name: Creative Writing\n",
      "Credit Hours: 3\n",
      "Elective Type: Liberal Arts\n"
     ]
    }
   ],
   "source": [
    "\n",
    "class Course:\n",
    "    def __init__(self, course_code, course_name, credit_hours):\n",
    "        self.course_code = course_code\n",
    "        self.course_name = course_name\n",
    "        self.credit_hours = credit_hours\n",
    "\n",
    "    def display_info(self):\n",
    "        return f\"Course Code: {self.course_code}\\nCourse Name: {self.course_name}\\nCredit Hours: {self.credit_hours}\"\n",
    "\n",
    "\n",
    "\n",
    "class CoreCourse(Course):\n",
    "    def __init__(self, course_code, course_name, credit_hours, required_for_major):\n",
    "        super().__init__(course_code, course_name, credit_hours)\n",
    "        self.required_for_major = required_for_major\n",
    "\n",
    "    def display_info(self):\n",
    "        core_info = super().display_info()\n",
    "        return f\"{core_info}\\nRequired for Major: {self.required_for_major}\"\n",
    "\n",
    "\n",
    "\n",
    "class ElectiveCourse(Course):\n",
    "    def __init__(self, course_code, course_name, credit_hours, elective_type):\n",
    "        super().__init__(course_code, course_name, credit_hours)\n",
    "        self.elective_type = elective_type\n",
    "\n",
    "    def display_info(self):\n",
    "        elective_info = super().display_info()\n",
    "        return f\"{elective_info}\\nElective Type: {self.elective_type}\"\n",
    "\n",
    "\n",
    "\n",
    "core_course = CoreCourse(\"CS101\", \"Introduction to Computer Science\", 3, True)\n",
    "elective_course = ElectiveCourse(\"ENG201\", \"Creative Writing\", 3, \"Liberal Arts\")\n",
    "\n",
    "\n",
    "print(\"Core Course Info:\")\n",
    "print(core_course.display_info())\n",
    "print(\"\\nElective Course Info:\")\n",
    "print(elective_course.display_info())\n"
   ]
  },
  {
   "cell_type": "code",
   "execution_count": 3,
   "id": "f180e456-1d84-417c-9fdb-729a83b9ecb1",
   "metadata": {},
   "outputs": [
    {
     "name": "stdout",
     "output_type": "stream",
     "text": [
      "Employee Name: John Doe\n",
      "Employee Salary: 50000\n"
     ]
    }
   ],
   "source": [
    " #Import the employee module\n",
    "from employee import Employee\n",
    "\n",
    "# Create an object of the Employee class\n",
    "employee_1 = Employee(\"John Doe\", 50000)\n",
    "\n",
    "\n",
    "print(\"Employee Name:\", employee_1.get_name())\n",
    "print(\"Employee Salary:\", employee_1.get_salary())\n",
    "\n"
   ]
  },
  {
   "cell_type": "code",
   "execution_count": null,
   "id": "0519f315-45b2-47ff-92b6-b0e6bd63cde3",
   "metadata": {},
   "outputs": [],
   "source": []
  }
 ],
 "metadata": {
  "kernelspec": {
   "display_name": "Python 3 (ipykernel)",
   "language": "python",
   "name": "python3"
  },
  "language_info": {
   "codemirror_mode": {
    "name": "ipython",
    "version": 3
   },
   "file_extension": ".py",
   "mimetype": "text/x-python",
   "name": "python",
   "nbconvert_exporter": "python",
   "pygments_lexer": "ipython3",
   "version": "3.12.7"
  }
 },
 "nbformat": 4,
 "nbformat_minor": 5
}
