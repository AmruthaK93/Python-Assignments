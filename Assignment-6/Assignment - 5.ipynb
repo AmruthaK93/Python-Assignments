{
 "cells": [
  {
   "cell_type": "markdown",
   "id": "0a30369d-0ad0-452c-8f37-378294b604a3",
   "metadata": {},
   "source": [
    "## Exercise 1"
   ]
  },
  {
   "cell_type": "markdown",
   "id": "c42b65cf-94af-47a5-a11b-13d3fed9d3bb",
   "metadata": {},
   "source": [
    "Write a Python program to read a file and display its contents"
   ]
  },
  {
   "cell_type": "code",
   "execution_count": 3,
   "id": "06dfd9df-7b05-48e7-85c8-e02bd88c71bc",
   "metadata": {},
   "outputs": [
    {
     "name": "stdout",
     "output_type": "stream",
     "text": [
      "Content of the file: \n",
      "Hi All\n",
      "This is a demo for Assignment 5\n",
      "\n"
     ]
    }
   ],
   "source": [
    "with open('File 1.txt','r') as abc:\n",
    "    content = abc.read()\n",
    "    print(\"Content of the file: \")\n",
    "    print(content)"
   ]
  },
  {
   "cell_type": "markdown",
   "id": "28aad8ba-b130-4716-9733-368fe43d5d9d",
   "metadata": {},
   "source": [
    "## Exercise 2"
   ]
  },
  {
   "cell_type": "markdown",
   "id": "9e653363-41a4-49fe-9310-038ec3e137e8",
   "metadata": {},
   "source": [
    "Write a Python program to copy the contents of one file to another file"
   ]
  },
  {
   "cell_type": "code",
   "execution_count": 18,
   "id": "523e4ed3-326c-4874-b33a-c7fc357fc1d2",
   "metadata": {},
   "outputs": [
    {
     "name": "stdout",
     "output_type": "stream",
     "text": [
      "Content of source file - File 1 :\n",
      "Hi All\n",
      "This is a demo for Assignment 5\n",
      "\n",
      "Content of destination file - File 2 :\n",
      "Hi All\n",
      "This is a demo for Assignment 5\n",
      "\n"
     ]
    }
   ],
   "source": [
    "with open('File 1.txt','r')as abc:\n",
    "    content1 = abc.read()\n",
    "    print('Content of source file - File 1 :')\n",
    "    print(content1)\n",
    "     \n",
    "with open('C:/Users/amrut/Documents/Python Codes/Assignment - 5_File and Exception Handling/File 2','w+') as xyz:\n",
    "    xyz.write(content1)\n",
    "    xyz.seek(0)\n",
    "    content2 = xyz.read()\n",
    "    print('Content of destination file - File 2 :')\n",
    "    print(content2)\n",
    "    \n",
    "               "
   ]
  },
  {
   "cell_type": "markdown",
   "id": "24e8eb5c-5efb-4071-a84d-c26b220991ae",
   "metadata": {},
   "source": [
    "## Exercise 3"
   ]
  },
  {
   "cell_type": "markdown",
   "id": "30c15780-6de0-421e-ad6f-e6dae6b50bf8",
   "metadata": {},
   "source": [
    "Write a Python program to read the content of a file and count the total number of words in that file."
   ]
  },
  {
   "cell_type": "code",
   "execution_count": 23,
   "id": "6600d38f-d256-4d8c-84a8-45d95d52b6c8",
   "metadata": {},
   "outputs": [
    {
     "name": "stdout",
     "output_type": "stream",
     "text": [
      "Content of the file : \n",
      "Hi All\n",
      "This is a demo for Assignment 5\n",
      "\n",
      "Total Number of Words = 9\n"
     ]
    }
   ],
   "source": [
    "with open ('File 1.txt','r') as abc:\n",
    "    content = abc.read()\n",
    "    words = content.split()\n",
    "    word_count = len(words)\n",
    "    print(f'Content of the file : \\n{content}')\n",
    "    print(f'Total Number of Words = {word_count}')"
   ]
  },
  {
   "cell_type": "markdown",
   "id": "ff417beb-9c9b-40a8-a684-eeb138da2ed0",
   "metadata": {},
   "source": [
    "## Exercise 4"
   ]
  },
  {
   "cell_type": "markdown",
   "id": "4e751635-870f-4f93-9d70-66f9a426e87d",
   "metadata": {},
   "source": [
    "Write a Python program that prompts the user to input a string and converts it to an integer. Use try-except blocks to handle any exceptions that might occur"
   ]
  },
  {
   "cell_type": "code",
   "execution_count": 31,
   "id": "7bba062b-4461-4a26-99bd-10805fb0175e",
   "metadata": {},
   "outputs": [
    {
     "name": "stdin",
     "output_type": "stream",
     "text": [
      "Please Enter a Number : 56\n"
     ]
    },
    {
     "name": "stdout",
     "output_type": "stream",
     "text": [
      "The User Input Number is : 56\n"
     ]
    }
   ],
   "source": [
    "user_input = input('Please Enter a Number :')\n",
    "try :\n",
    "    user_number = int(user_input)\n",
    "    print(f'The User Input Number is : {user_number}')\n",
    "except ValueError :\n",
    "    print('This is not a valid number')"
   ]
  },
  {
   "cell_type": "markdown",
   "id": "f529d131-1493-4db8-8391-4c3e79a4d41c",
   "metadata": {},
   "source": [
    "## Exercise 5"
   ]
  },
  {
   "cell_type": "markdown",
   "id": "7b868c6e-5add-4862-9502-53b075e7eb8f",
   "metadata": {},
   "source": [
    " Write a Python program that prompts the user to input a list of integers and raises an exception if any of the integers in the list are negative."
   ]
  },
  {
   "cell_type": "code",
   "execution_count": 33,
   "id": "38c92380-ff6c-46ed-8526-18ca378e08e0",
   "metadata": {},
   "outputs": [
    {
     "name": "stdin",
     "output_type": "stream",
     "text": [
      "Please enter a list of integers separated by spaces:  2 3 -9 -6\n"
     ]
    },
    {
     "name": "stdout",
     "output_type": "stream",
     "text": [
      "Error: Negative number found: -9\n"
     ]
    }
   ],
   "source": [
    "\n",
    "def check_negative(numbers):\n",
    "    for num in numbers:\n",
    "        if num < 0:\n",
    "            raise ValueError(f'Negative number found: {num}')\n",
    "\n",
    "user_input = input('Please enter a list of integers separated by spaces: ')\n",
    "\n",
    "try:\n",
    "     numbers = list(map(int, user_input.split()))\n",
    "     check_negative(numbers)\n",
    "     print(\"The list of integers is valid:\", numbers)\n",
    "\n",
    "except ValueError as e:\n",
    "    print(f\"Error: {e}\")\n",
    "\n"
   ]
  },
  {
   "cell_type": "markdown",
   "id": "43af5a8a-752e-4a34-b842-f5bb5ec3d056",
   "metadata": {},
   "source": [
    "## Exercise 6"
   ]
  },
  {
   "cell_type": "markdown",
   "id": "0bc3064a-fa8f-4a35-80d9-5defd88599f8",
   "metadata": {},
   "source": [
    "Write a Python program that prompts the user to input a list of integers and computes the average of those integers. Use try-except blocks to handle any exceptions that might occur. Use the finally clause to print a message indicating that the program has finished running."
   ]
  },
  {
   "cell_type": "code",
   "execution_count": 25,
   "id": "0ac72617-dc0e-49d1-b4b5-1b9f9720e37a",
   "metadata": {},
   "outputs": [
    {
     "name": "stdin",
     "output_type": "stream",
     "text": [
      "Please enter a list of integers separated by spaces:  1 5 6 8 23 100\n"
     ]
    },
    {
     "name": "stdout",
     "output_type": "stream",
     "text": [
      "The average of the entered integers is: 23.833333333333332\n",
      "Program execution finished.\n"
     ]
    }
   ],
   "source": [
    "try:\n",
    "    def average(numbers):\n",
    "        l = len(numbers)\n",
    "        if l > 0:\n",
    "            total_sum = sum(numbers) \n",
    "            avg = total_sum / l\n",
    "            print(f'The average of the entered integers is: {avg}')\n",
    "        else:\n",
    "            raise ValueError('No numbers found in the list.')\n",
    "\n",
    "    user_input = input('Please enter a list of integers separated by spaces: ')\n",
    "    \n",
    "    n = [int(x) for x in user_input.split()]\n",
    "\n",
    "    average(n)\n",
    "\n",
    "except ValueError as e:\n",
    "    print(f'Error: {e}')\n",
    "\n",
    "except Exception as e:\n",
    "    print(f\"An unexpected error occurred: {e}\")\n",
    "\n",
    "finally:\n",
    "    print(\"Program execution finished.\")\n",
    "\n",
    "   \n",
    "    "
   ]
  },
  {
   "cell_type": "markdown",
   "id": "25ee214c-3f63-46b8-932a-a9b67b0867cc",
   "metadata": {},
   "source": [
    "## Exercise 7"
   ]
  },
  {
   "cell_type": "markdown",
   "id": "1821a850-bde9-49b7-84e5-831e9de11fdd",
   "metadata": {},
   "source": [
    "Write a Python program that prompts the user to input a filename and writes a string to that file. Use try-except blocks to handle any exceptions that might occur and print a welcome message if there is no exception occurred."
   ]
  },
  {
   "cell_type": "code",
   "execution_count": 27,
   "id": "15f8d9db-c73a-4a7e-9f59-52888be5a474",
   "metadata": {},
   "outputs": [
    {
     "name": "stdin",
     "output_type": "stream",
     "text": [
      "Please enter the filename:  File 3\n"
     ]
    },
    {
     "name": "stdout",
     "output_type": "stream",
     "text": [
      "File 'File 3' has been written successfully.\n",
      "Program execution finished.\n"
     ]
    }
   ],
   "source": [
    "def write_to_file():\n",
    "    try:\n",
    "        filename = input(\"Please enter the filename: \")\n",
    "        with open(filename, 'w') as file:\n",
    "            file.write(\"Demo for Python file handling!\")\n",
    "        print(f\"File '{filename}' has been written successfully.\")\n",
    "    \n",
    "    except Exception as e:\n",
    "            print(f\"Error: {e}\")\n",
    "    \n",
    "    finally:\n",
    "            print(\"Program execution finished.\")\n",
    "\n",
    "write_to_file()\n"
   ]
  },
  {
   "cell_type": "code",
   "execution_count": null,
   "id": "71cb39c6-b1b1-4116-b98f-d13eee44c81d",
   "metadata": {},
   "outputs": [],
   "source": []
  }
 ],
 "metadata": {
  "kernelspec": {
   "display_name": "Python 3 (ipykernel)",
   "language": "python",
   "name": "python3"
  },
  "language_info": {
   "codemirror_mode": {
    "name": "ipython",
    "version": 3
   },
   "file_extension": ".py",
   "mimetype": "text/x-python",
   "name": "python",
   "nbconvert_exporter": "python",
   "pygments_lexer": "ipython3",
   "version": "3.12.7"
  }
 },
 "nbformat": 4,
 "nbformat_minor": 5
}
