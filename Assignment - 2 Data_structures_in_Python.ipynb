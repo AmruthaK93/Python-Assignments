{
 "cells": [
  {
   "cell_type": "markdown",
   "id": "4d921b38-14d2-4625-a2ff-b15f42b103dd",
   "metadata": {},
   "source": [
    "## LIST"
   ]
  },
  {
   "cell_type": "markdown",
   "id": "8f6d3315-b841-46af-a12c-506f191f2fc2",
   "metadata": {},
   "source": [
    "### Exercise"
   ]
  },
  {
   "cell_type": "raw",
   "id": "2818685c-4e81-4759-9a25-77e25d6de77c",
   "metadata": {},
   "source": [
    " Q1. Create a list of 5 random numbers and print the list."
   ]
  },
  {
   "cell_type": "code",
   "execution_count": 13,
   "id": "a0f9e51b-65d2-4cea-ba14-8b7efe343d70",
   "metadata": {},
   "outputs": [
    {
     "name": "stdout",
     "output_type": "stream",
     "text": [
      "original list : [5, 63, 101, 87, 520]\n"
     ]
    }
   ],
   "source": [
    "numbers = [5,63,101,87,520]\n",
    "print('original list :',numbers)"
   ]
  },
  {
   "cell_type": "code",
   "execution_count": 3,
   "id": "58d1fdb2-48e0-462b-8d0b-12172252b5bc",
   "metadata": {},
   "outputs": [
    {
     "data": {
      "text/plain": [
       "list"
      ]
     },
     "execution_count": 3,
     "metadata": {},
     "output_type": "execute_result"
    }
   ],
   "source": [
    "type(numbers)"
   ]
  },
  {
   "cell_type": "raw",
   "id": "ab383313-4176-4852-a95d-c3c332bcc63e",
   "metadata": {},
   "source": [
    "Q2. Insert 3 new values to the list and print the updated list. "
   ]
  },
  {
   "cell_type": "code",
   "execution_count": 25,
   "id": "2050b22f-daa3-4d6a-9c46-e63966c64bf2",
   "metadata": {},
   "outputs": [],
   "source": [
    "numbers.append(9)"
   ]
  },
  {
   "cell_type": "code",
   "execution_count": 26,
   "id": "57e42b0e-946e-4b77-aaee-cd1c3d4cb3f4",
   "metadata": {},
   "outputs": [],
   "source": [
    "numbers[6:6]=[11,22]"
   ]
  },
  {
   "cell_type": "code",
   "execution_count": 27,
   "id": "f142006e-a655-41be-94ff-48ac5af6f2bf",
   "metadata": {},
   "outputs": [
    {
     "name": "stdout",
     "output_type": "stream",
     "text": [
      "updated list list : [5, 63, 101, 87, 520, 9, 11, 22]\n"
     ]
    }
   ],
   "source": [
    "print('updated list list :',numbers)"
   ]
  },
  {
   "cell_type": "raw",
   "id": "592b42bd-c3c8-497e-8c45-69190bb0919a",
   "metadata": {},
   "source": [
    " Q3. Try to use a for loop to print each element in the list. "
   ]
  },
  {
   "cell_type": "code",
   "execution_count": 29,
   "id": "1fd75476-29b1-4a0b-a6c2-b7d0282374a3",
   "metadata": {},
   "outputs": [
    {
     "name": "stdout",
     "output_type": "stream",
     "text": [
      "elements in the list :\n",
      "5\n",
      "63\n",
      "101\n",
      "87\n",
      "520\n",
      "9\n",
      "11\n",
      "22\n"
     ]
    }
   ],
   "source": [
    "print('elements in the list :')\n",
    "for i in numbers:\n",
    "    print(i)"
   ]
  },
  {
   "cell_type": "markdown",
   "id": "bce74921-7d1f-4af8-a8c6-ac85fc9b189e",
   "metadata": {},
   "source": [
    "##  DICTIONARY"
   ]
  },
  {
   "cell_type": "markdown",
   "id": "c8672183-4248-4b30-8461-3fd2d106256f",
   "metadata": {},
   "source": [
    "### Exercise"
   ]
  },
  {
   "cell_type": "raw",
   "id": "aa7e86ab-a176-457c-be44-c8512f692d82",
   "metadata": {},
   "source": [
    "Q1. Create a dictionary with keys 'name', 'age', and 'address' and values 'John', 25, and 'New York' respectively."
   ]
  },
  {
   "cell_type": "code",
   "execution_count": 32,
   "id": "115a8dcc-7fb8-4cf3-9d95-524f188c2eb0",
   "metadata": {},
   "outputs": [
    {
     "name": "stdout",
     "output_type": "stream",
     "text": [
      "Student Dictionary : {'Name': 'John', 'Age': '25', 'Address': 'New York'}\n"
     ]
    }
   ],
   "source": [
    "student = {'Name' :'John',\n",
    "           'Age' : '25',\n",
    "           'Address': 'New York'}\n",
    "print('Student Dictionary :', student)"
   ]
  },
  {
   "cell_type": "raw",
   "id": "212815cc-161b-472d-97d9-cbe0bc1bf9ac",
   "metadata": {},
   "source": [
    " Q2. Add a new key-value pair to the dictionary created in Q1 with key 'phone' and value '1234567890'."
   ]
  },
  {
   "cell_type": "code",
   "execution_count": 33,
   "id": "a0df6234-953b-47b4-860f-aa6df46a3bbb",
   "metadata": {},
   "outputs": [],
   "source": [
    "student['Phone']='1234567890'"
   ]
  },
  {
   "cell_type": "code",
   "execution_count": 34,
   "id": "50f40e52-cb15-431d-8f85-8f569a8ba8cf",
   "metadata": {},
   "outputs": [
    {
     "name": "stdout",
     "output_type": "stream",
     "text": [
      "Updated Student Dictionary : {'Name': 'John', 'Age': '25', 'Address': 'New York', 'Phone': '1234567890'}\n"
     ]
    }
   ],
   "source": [
    "print('Updated Student Dictionary :', student)"
   ]
  },
  {
   "cell_type": "markdown",
   "id": "419a180e-d6e6-4cf5-853c-7b1a81c08b33",
   "metadata": {},
   "source": [
    "## SETS"
   ]
  },
  {
   "cell_type": "markdown",
   "id": "962608ac-897b-4eb3-9d77-b7218315b3fe",
   "metadata": {},
   "source": [
    "### Exercise"
   ]
  },
  {
   "cell_type": "raw",
   "id": "3d5708e5-f3ce-4032-b326-f710d6a179aa",
   "metadata": {},
   "source": [
    " Q1.Create a set with values 1, 2, 3, 4, and 5. "
   ]
  },
  {
   "cell_type": "code",
   "execution_count": 36,
   "id": "1d71c644-bb06-45df-860f-e734a7dbbddf",
   "metadata": {},
   "outputs": [
    {
     "name": "stdout",
     "output_type": "stream",
     "text": [
      "Random number set : {1, 2, 3, 4, 5}\n"
     ]
    }
   ],
   "source": [
    "random_numbers = {1,2,3,4,5}\n",
    "print('Random number set :',random_numbers)"
   ]
  },
  {
   "cell_type": "raw",
   "id": "6ae0ec50-7566-469a-91c6-d64e93725ebd",
   "metadata": {},
   "source": [
    "Q2. Add the value 6 to the set created in Q1."
   ]
  },
  {
   "cell_type": "code",
   "execution_count": 38,
   "id": "0e19f36d-f110-4c7d-be35-b9dc33b37d77",
   "metadata": {},
   "outputs": [
    {
     "name": "stdout",
     "output_type": "stream",
     "text": [
      "Updated random number set : {1, 2, 3, 4, 5, 6}\n"
     ]
    }
   ],
   "source": [
    "random_numbers.add(6)\n",
    "print('Updated random number set :',random_numbers)"
   ]
  },
  {
   "cell_type": "raw",
   "id": "976e081b-3655-4b8d-b011-ecac318129d8",
   "metadata": {},
   "source": [
    "Q3. Remove the value 3 from the set created in Q1."
   ]
  },
  {
   "cell_type": "code",
   "execution_count": 39,
   "id": "014c865b-7c46-448a-b8a5-fa33645b00b8",
   "metadata": {},
   "outputs": [
    {
     "name": "stdout",
     "output_type": "stream",
     "text": [
      "Random number set : {1, 2, 4, 5, 6}\n"
     ]
    }
   ],
   "source": [
    "random_numbers.remove(3)\n",
    "print('Random number set :',random_numbers)"
   ]
  },
  {
   "cell_type": "markdown",
   "id": "0db68e4c-620c-484b-8b72-85122ef420c6",
   "metadata": {},
   "source": [
    "## TUPLE"
   ]
  },
  {
   "cell_type": "markdown",
   "id": "b18f6c23-572b-42bf-a39b-cc124a222a46",
   "metadata": {},
   "source": [
    "### Exercise"
   ]
  },
  {
   "cell_type": "raw",
   "id": "0ea17d12-e522-46d1-8e08-9910fade0b6a",
   "metadata": {},
   "source": [
    " Q1. Create a tuple with values 1, 2, 3, and 4"
   ]
  },
  {
   "cell_type": "code",
   "execution_count": 41,
   "id": "5b8a28ad-cd8b-4daf-b6ec-6b9d7b62d1b3",
   "metadata": {},
   "outputs": [
    {
     "name": "stdout",
     "output_type": "stream",
     "text": [
      "Tuple T1 : (1, 2, 3, 4)\n"
     ]
    }
   ],
   "source": [
    "T1 = (1,2,3,4)\n",
    "print('Tuple T1 :',T1)"
   ]
  },
  {
   "cell_type": "raw",
   "id": "f56b4048-8643-48f1-b64d-72b4a3cdf532",
   "metadata": {},
   "source": [
    "Q2. Print the length of the tuple created in Q1."
   ]
  },
  {
   "cell_type": "code",
   "execution_count": 43,
   "id": "793e6921-c12c-47d4-a510-4be1d4630a40",
   "metadata": {},
   "outputs": [
    {
     "name": "stdout",
     "output_type": "stream",
     "text": [
      "Length of tuple T1 : 4\n"
     ]
    }
   ],
   "source": [
    "print('Length of tuple T1 :',len(T1))"
   ]
  }
 ],
 "metadata": {
  "kernelspec": {
   "display_name": "Python 3 (ipykernel)",
   "language": "python",
   "name": "python3"
  },
  "language_info": {
   "codemirror_mode": {
    "name": "ipython",
    "version": 3
   },
   "file_extension": ".py",
   "mimetype": "text/x-python",
   "name": "python",
   "nbconvert_exporter": "python",
   "pygments_lexer": "ipython3",
   "version": "3.12.7"
  }
 },
 "nbformat": 4,
 "nbformat_minor": 5
}
