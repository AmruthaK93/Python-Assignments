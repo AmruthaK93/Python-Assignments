{
 "cells": [
  {
   "cell_type": "code",
   "execution_count": 1,
   "id": "23423667-95fc-4f6e-899f-dcd975e44836",
   "metadata": {},
   "outputs": [],
   "source": [
    "#importing numpy and pandas\n",
    "\n",
    "import numpy as np\n",
    "import pandas as pd"
   ]
  },
  {
   "cell_type": "markdown",
   "id": "29b33f3d-12cd-4a64-a48a-1723accd562b",
   "metadata": {},
   "source": [
    "## Exercise 1"
   ]
  },
  {
   "cell_type": "markdown",
   "id": "99698d08-a15c-4222-9b11-20c9c32c8e43",
   "metadata": {},
   "source": [
    " Create a numpy array containing the numbers from 1 to 10, and then reshape it to a 2x5 matrix."
   ]
  },
  {
   "cell_type": "code",
   "execution_count": 2,
   "id": "ea47e4bf-d1dd-4355-b196-39029e02060d",
   "metadata": {},
   "outputs": [
    {
     "name": "stdout",
     "output_type": "stream",
     "text": [
      "\n",
      "Original Array [ 1  2  3  4  5  6  7  8  9 10]\n",
      "\n",
      " Reshaped Array\n",
      "[[ 1  2  3  4  5]\n",
      " [ 6  7  8  9 10]]\n"
     ]
    }
   ],
   "source": [
    "arr = np.arange(1, 11)\n",
    "\n",
    "reshaped_arr = arr.reshape(2, 5)\n",
    "\n",
    "print('\\nOriginal Array',arr)\n",
    "print('\\n Reshaped Array')\n",
    "print(reshaped_arr)"
   ]
  },
  {
   "cell_type": "markdown",
   "id": "8a32c4a0-4baf-45bb-95f4-20f90fe8b506",
   "metadata": {},
   "source": [
    "## Exercise 2"
   ]
  },
  {
   "cell_type": "markdown",
   "id": "009ecc06-7d58-4454-b0e0-3cb384420329",
   "metadata": {},
   "source": [
    "Create a numpy array containing the numbers from 1 to 20, and then extract the elements between the 5th and 15th index."
   ]
  },
  {
   "cell_type": "code",
   "execution_count": 3,
   "id": "04b57e30-6cc3-423d-8b6b-5098e71ad338",
   "metadata": {},
   "outputs": [
    {
     "name": "stdout",
     "output_type": "stream",
     "text": [
      "Original Array: [ 1  2  3  4  5  6  7  8  9 10 11 12 13 14 15 16 17 18 19 20]\n",
      "Extracted Elements (5th to 15th index): [ 6  7  8  9 10 11 12 13 14 15 16]\n"
     ]
    }
   ],
   "source": [
    "arr = np.arange(1, 21)\n",
    "extracted_elements = arr[5:16] \n",
    "\n",
    "print(\"Original Array:\", arr)\n",
    "print(\"Extracted Elements (5th to 15th index):\", extracted_elements)\n"
   ]
  },
  {
   "cell_type": "markdown",
   "id": "1897a71a-f55f-43de-a1e0-a535156d8a5a",
   "metadata": {},
   "source": [
    "## Exercise 3"
   ]
  },
  {
   "cell_type": "markdown",
   "id": "e99b2f30-8914-4090-bf89-6e7b003a71a8",
   "metadata": {},
   "source": [
    "Create a Pandas series with the following data: {'apples': 3, 'bananas': 2, 'oranges': 1}. Then, add a new item to the series with the key 'pears' and the value 4."
   ]
  },
  {
   "cell_type": "code",
   "execution_count": 4,
   "id": "628202dd-504f-470f-910a-5b929ff8b425",
   "metadata": {},
   "outputs": [
    {
     "name": "stdout",
     "output_type": "stream",
     "text": [
      "Original Series:\n",
      "apples     3\n",
      "bananas    2\n",
      "oranges    1\n",
      "dtype: int64\n",
      "\n",
      "Updated Series:\n",
      "apples     3\n",
      "bananas    2\n",
      "oranges    1\n",
      "pears      4\n",
      "dtype: int64\n"
     ]
    }
   ],
   "source": [
    "\n",
    "\n",
    "data = {'apples': 3, 'bananas': 2, 'oranges': 1}\n",
    "series = pd.Series(data)\n",
    "\n",
    "print(\"Original Series:\")\n",
    "print(series)\n",
    "\n",
    "series['pears'] = 4\n",
    "\n",
    "print(\"\\nUpdated Series:\")\n",
    "print(series)\n"
   ]
  },
  {
   "cell_type": "markdown",
   "id": "304d3bfb-3b17-4b17-b7e6-55c949d8d0c8",
   "metadata": {},
   "source": [
    "## Exercise 4"
   ]
  },
  {
   "cell_type": "markdown",
   "id": "696a9b3d-fcbf-4d7b-9507-375e8e419767",
   "metadata": {},
   "source": [
    "Create a dataframe with the following columns: name, age, and gender. The dataframe should have 10 rows of data."
   ]
  },
  {
   "cell_type": "code",
   "execution_count": 7,
   "id": "e6638895-dd80-40de-9cd7-a2fb396fa110",
   "metadata": {},
   "outputs": [
    {
     "name": "stdout",
     "output_type": "stream",
     "text": [
      "      NAME  AGE  GENDER\n",
      "0    Alice   25  Female\n",
      "1      Bob   30    Male\n",
      "2  Charlie   35    Male\n",
      "3    David   40    Male\n",
      "4    Lilly   28  Female\n",
      "5     Jill   33    Male\n",
      "6    Grace   29  Female\n",
      "7     Mary   26  Female\n",
      "8      Tom   22    Male\n",
      "9    Jerry   31    Male\n"
     ]
    }
   ],
   "source": [
    "data = {\n",
    "    'NAME': ['Alice', 'Bob', 'Charlie', 'David', 'Lilly', 'Jill', 'Grace', 'Mary', 'Tom', 'Jerry' ],\n",
    "    'AGE': [25, 30, 35, 40, 28, 33, 29, 26, 22, 31],\n",
    "    'GENDER': ['Female', 'Male', 'Male', 'Male', 'Female', 'Male', 'Female', 'Female', 'Male', 'Male'] }\n",
    "\n",
    "df = pd.DataFrame(data)\n",
    "\n",
    "print(df)\n"
   ]
  },
  {
   "cell_type": "markdown",
   "id": "62a64b72-35b5-4936-923e-53f16b28ed15",
   "metadata": {},
   "source": [
    "## Exercise 5"
   ]
  },
  {
   "cell_type": "markdown",
   "id": "bc810478-42ba-4f36-885a-a7d453589636",
   "metadata": {},
   "source": [
    "Add a new column to the data frame created in Exercise 4, called occupation. The values for this column should be Programmer, Manager, and Analyst, corresponding to the rows in the dataframe."
   ]
  },
  {
   "cell_type": "code",
   "execution_count": 8,
   "id": "12f1baf4-d9f2-4955-8d88-07cbd76f8224",
   "metadata": {},
   "outputs": [
    {
     "name": "stdout",
     "output_type": "stream",
     "text": [
      "      NAME  AGE  GENDER  OCCUPATION\n",
      "0    Alice   25  Female  Programmer\n",
      "1      Bob   30    Male     Manager\n",
      "2  Charlie   35    Male     Analyst\n",
      "3    David   40    Male  Programmer\n",
      "4    Lilly   28  Female     Manager\n",
      "5     Jill   33    Male     Analyst\n",
      "6    Grace   29  Female  Programmer\n",
      "7     Mary   26  Female     Manager\n",
      "8      Tom   22    Male     Analyst\n",
      "9    Jerry   31    Male  Programmer\n"
     ]
    }
   ],
   "source": [
    "\n",
    "df['OCCUPATION'] = ['Programmer', 'Manager', 'Analyst', 'Programmer', 'Manager', 'Analyst', \n",
    "                     'Programmer', 'Manager', 'Analyst', 'Programmer']\n",
    "print (df)\n"
   ]
  },
  {
   "cell_type": "markdown",
   "id": "1994a4b5-a95f-41a9-ad8b-9ba148e72296",
   "metadata": {},
   "source": [
    "## Exercise 6"
   ]
  },
  {
   "cell_type": "markdown",
   "id": "62e94a8a-c35d-43b6-ad8a-65f34e7d9ad3",
   "metadata": {},
   "source": [
    "Select the rows of the dataframe where the age is greater than or equal to 30"
   ]
  },
  {
   "cell_type": "code",
   "execution_count": 10,
   "id": "61754f63-48e7-4722-9da3-705ee4587e65",
   "metadata": {},
   "outputs": [
    {
     "name": "stdout",
     "output_type": "stream",
     "text": [
      "      NAME  AGE GENDER  OCCUPATION\n",
      "1      Bob   30   Male     Manager\n",
      "2  Charlie   35   Male     Analyst\n",
      "3    David   40   Male  Programmer\n",
      "5     Jill   33   Male     Analyst\n",
      "9    Jerry   31   Male  Programmer\n"
     ]
    }
   ],
   "source": [
    "filtered_df = df[df['AGE'] >= 30]\n",
    "print(filtered_df)"
   ]
  },
  {
   "cell_type": "markdown",
   "id": "6ad96cd1-fa0a-4fd0-b581-a2769d910273",
   "metadata": {},
   "source": [
    "## Exercise 7"
   ]
  },
  {
   "cell_type": "markdown",
   "id": "74f28d78-c55a-4033-b3dc-19f7fbafd08b",
   "metadata": {},
   "source": [
    "Convert this dataframe to a csv file and read that csv file, finally display the contents."
   ]
  },
  {
   "cell_type": "code",
   "execution_count": 11,
   "id": "60904fd2-4024-4738-86c1-c93733ba1f7a",
   "metadata": {},
   "outputs": [
    {
     "name": "stdout",
     "output_type": "stream",
     "text": [
      "      NAME  AGE  GENDER  OCCUPATION\n",
      "0    Alice   25  Female  Programmer\n",
      "1      Bob   30    Male     Manager\n",
      "2  Charlie   35    Male     Analyst\n",
      "3    David   40    Male  Programmer\n",
      "4    Lilly   28  Female     Manager\n",
      "5     Jill   33    Male     Analyst\n",
      "6    Grace   29  Female  Programmer\n",
      "7     Mary   26  Female     Manager\n",
      "8      Tom   22    Male     Analyst\n",
      "9    Jerry   31    Male  Programmer\n"
     ]
    }
   ],
   "source": [
    "csv_filename = 'dataframe.csv'\n",
    "df.to_csv(csv_filename, index=False)\n",
    "\n",
    "df_from_csv = pd.read_csv(csv_filename)\n",
    "\n",
    "print(df_from_csv)"
   ]
  },
  {
   "cell_type": "code",
   "execution_count": null,
   "id": "08448bb4-74a2-4004-af37-92d33f82702e",
   "metadata": {},
   "outputs": [],
   "source": []
  }
 ],
 "metadata": {
  "kernelspec": {
   "display_name": "Python 3 (ipykernel)",
   "language": "python",
   "name": "python3"
  },
  "language_info": {
   "codemirror_mode": {
    "name": "ipython",
    "version": 3
   },
   "file_extension": ".py",
   "mimetype": "text/x-python",
   "name": "python",
   "nbconvert_exporter": "python",
   "pygments_lexer": "ipython3",
   "version": "3.12.7"
  }
 },
 "nbformat": 4,
 "nbformat_minor": 5
}
