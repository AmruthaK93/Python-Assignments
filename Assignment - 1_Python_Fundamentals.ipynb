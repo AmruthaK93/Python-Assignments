{
 "cells": [
  {
   "cell_type": "markdown",
   "id": "4158372e-51ec-4c63-819d-586e8e11560f",
   "metadata": {},
   "source": [
    "## Exercise 1"
   ]
  },
  {
   "cell_type": "raw",
   "id": "8490e42d-3d72-47aa-b3ae-748cdb6e24b0",
   "metadata": {},
   "source": [
    " Write Python code that prints your name, student number and email address."
   ]
  },
  {
   "cell_type": "code",
   "execution_count": 4,
   "id": "9363c608-2361-4e0a-a939-97109a1d883f",
   "metadata": {},
   "outputs": [],
   "source": [
    "a = 'Amrutha'\n",
    "b = 3\n",
    "c = 'amruthakeralasseri@gmail.com"
   ]
  },
  {
   "cell_type": "code",
   "execution_count": 3,
   "id": "93382318-efc2-4e89-8644-c4d6a32be31c",
   "metadata": {},
   "outputs": [
    {
     "name": "stdout",
     "output_type": "stream",
     "text": [
      "Name :  Amrutha\n",
      "Student Number : 3\n",
      "Email address : amruthakeralasseri@gmail.com\n"
     ]
    }
   ],
   "source": [
    "print('Name : ',a)\n",
    "print('Student Number :',b)\n",
    "print('Email address :',c)"
   ]
  },
  {
   "cell_type": "markdown",
   "id": "1a4db0b6-acb7-4746-9f1c-be432ebd6108",
   "metadata": {},
   "source": [
    "## Exercise 2 "
   ]
  },
  {
   "cell_type": "raw",
   "id": "c96bd404-ecc7-4558-acf5-d3c86fef95bf",
   "metadata": {},
   "source": [
    "Write Python code that prints your name, student number and email address using escape sequences."
   ]
  },
  {
   "cell_type": "code",
   "execution_count": 5,
   "id": "f7d74a9e-f4ea-4696-bb7e-718ea94b6b0f",
   "metadata": {},
   "outputs": [],
   "source": [
    "a = 'Amrutha'\n",
    "b = 3\n",
    "c = 'amruthakeralasseri@gmail.com'"
   ]
  },
  {
   "cell_type": "code",
   "execution_count": 15,
   "id": "770ea580-916d-42b3-a5f3-f12c63fddff6",
   "metadata": {},
   "outputs": [
    {
     "name": "stdout",
     "output_type": "stream",
     "text": [
      "Name :Amrutha\n",
      "Student Number :3\n",
      "Email address :amruthakeralasseri@gmail.com\n"
     ]
    }
   ],
   "source": [
    "print(f'Name :{a}\\nStudent Number :{b}\\nEmail address :{c}')"
   ]
  },
  {
   "cell_type": "markdown",
   "id": "b18c025e-36a0-4b61-bc32-d7673e720eab",
   "metadata": {},
   "source": [
    "## Exercise 3 "
   ]
  },
  {
   "cell_type": "raw",
   "id": "07fd9862-cb49-489b-9b69-4e7e42ccf399",
   "metadata": {},
   "source": [
    "Write Python code that add, subtract, multiply and divide the two numbers. You can use the two numbers 14 and 7."
   ]
  },
  {
   "cell_type": "code",
   "execution_count": 16,
   "id": "78c39e1c-b730-404e-8c77-3b7f7281e270",
   "metadata": {},
   "outputs": [],
   "source": [
    "x = 14\n",
    "y = 7"
   ]
  },
  {
   "cell_type": "code",
   "execution_count": 27,
   "id": "247e3576-b4f6-45a5-9aba-dfbaa65deddb",
   "metadata": {},
   "outputs": [
    {
     "name": "stdout",
     "output_type": "stream",
     "text": [
      "Adition : 14 + 7= 21\n"
     ]
    }
   ],
   "source": [
    "adition = x+y\n",
    "print(f'Adition : {x} + {y} = {adition}')"
   ]
  },
  {
   "cell_type": "code",
   "execution_count": 29,
   "id": "96a66b54-edfa-4243-b3e5-6b92614f8217",
   "metadata": {},
   "outputs": [
    {
     "name": "stdout",
     "output_type": "stream",
     "text": [
      "subtraction : 14 - 7 = 7\n"
     ]
    }
   ],
   "source": [
    "subtraction = x-y\n",
    "print(f'subtraction : {x} - {y} = {subtraction}')"
   ]
  },
  {
   "cell_type": "code",
   "execution_count": 30,
   "id": "e7735583-2d48-4ceb-8a7d-0feaf0f561ac",
   "metadata": {},
   "outputs": [
    {
     "name": "stdout",
     "output_type": "stream",
     "text": [
      "Multiplication : 14 * 7 = 98\n"
     ]
    }
   ],
   "source": [
    "multiplication = x*y\n",
    "print(f'Multiplication : {x} * {y} = {multiplication}')"
   ]
  },
  {
   "cell_type": "code",
   "execution_count": 31,
   "id": "dec4075f-8518-407f-9289-07e7c93c7b67",
   "metadata": {},
   "outputs": [
    {
     "name": "stdout",
     "output_type": "stream",
     "text": [
      "Division : 14 / 7= 2.0\n"
     ]
    }
   ],
   "source": [
    "division = x/y\n",
    "print(f'Division : {x} / {y}= {division}')"
   ]
  },
  {
   "cell_type": "markdown",
   "id": "a7e2b354-5cc5-4fbf-a215-19635feeea81",
   "metadata": {},
   "source": [
    "## Exercise 4 "
   ]
  },
  {
   "cell_type": "raw",
   "id": "97198a0f-b835-4b56-94b0-25f5c83b2d3e",
   "metadata": {},
   "source": [
    "Write Python code that displays the numbers from 1 to 5 as steps."
   ]
  },
  {
   "cell_type": "code",
   "execution_count": 34,
   "id": "d5bff29c-0f70-4c9f-bb93-bccc7db282f6",
   "metadata": {},
   "outputs": [
    {
     "name": "stdout",
     "output_type": "stream",
     "text": [
      "1\n",
      "2\n",
      "3\n",
      "4\n",
      "5\n"
     ]
    }
   ],
   "source": [
    "for i in range(1,6):\n",
    "    print(f'{i}')"
   ]
  },
  {
   "cell_type": "markdown",
   "id": "94797663-a0bd-47db-8f8b-8161137b3212",
   "metadata": {},
   "source": [
    "## Exercise 5 "
   ]
  },
  {
   "cell_type": "raw",
   "id": "cb44927e-a8ed-42d4-bf6e-d461c7feb8a4",
   "metadata": {},
   "source": [
    "Write Python code that outputs the following sentence (including the quotation marks and line break) to the screen:\n",
    "\n",
    "An example runs of the program: \"SDK\" stands for \"Software Development Kit\", whereas \"IDE\" stands for \"Integrated Development Environment\"."
   ]
  },
  {
   "cell_type": "code",
   "execution_count": 35,
   "id": "9db7dc1a-3b7b-442c-b656-f9b13a11bc3b",
   "metadata": {},
   "outputs": [
    {
     "name": "stdout",
     "output_type": "stream",
     "text": [
      "\"SDK\" stands for \"Software Development Kit\",whereas \"IDE\" stands for \"Integrated Development Environment\" \n"
     ]
    }
   ],
   "source": [
    "print('\"SDK\" stands for \"Software Development Kit\",whereas \"IDE\" stands for \"Integrated Development Environment\" ')"
   ]
  },
  {
   "cell_type": "code",
   "execution_count": 36,
   "id": "10ae87fc-f967-4b08-9440-3261fecd9024",
   "metadata": {},
   "outputs": [
    {
     "name": "stdout",
     "output_type": "stream",
     "text": [
      "\"SDK\" stands for \"Software Development Kit\", whereas \"IDE\" stands for \"Integrated Development Environment\".\n"
     ]
    }
   ],
   "source": [
    "print(\"\\\"SDK\\\" stands for \\\"Software Development Kit\\\", whereas \\\"IDE\\\" stands for \\\"Integrated Development Environment\\\".\")\n"
   ]
  },
  {
   "cell_type": "markdown",
   "id": "42322aa8-1940-43fd-81f6-ea7aec835b73",
   "metadata": {},
   "source": [
    "## Exercise 6 "
   ]
  },
  {
   "cell_type": "raw",
   "id": "35a0103d-6797-48bb-81a3-0a8ae8b4e154",
   "metadata": {},
   "source": [
    "Practice and check the output print(\"python is an \\\"awesome\\\" language.\") print(\"python\\n\\t2023\") print('I\\'m from Entri.\\b') print(\"\\65\") print(\"\\x65\") print(\"Entri\", \"2023\", sep=\"\\n\") print(\"Entri\", \"2023\", sep=\"\\b\") print(\"Entri\", \"2023\", sep=\"*\", end=\"\\b\\b\\b\\b\") "
   ]
  },
  {
   "cell_type": "code",
   "execution_count": 37,
   "id": "42a69b42-cbb5-4f90-86f6-7d37529f23b2",
   "metadata": {},
   "outputs": [
    {
     "name": "stdout",
     "output_type": "stream",
     "text": [
      "python is an \"awesome\" language.\n"
     ]
    }
   ],
   "source": [
    "print(\"python is an \\\"awesome\\\" language.\")"
   ]
  },
  {
   "cell_type": "code",
   "execution_count": 38,
   "id": "fa6cc360-0e0a-4387-a976-f34e6fa0c2e4",
   "metadata": {},
   "outputs": [
    {
     "name": "stdout",
     "output_type": "stream",
     "text": [
      "python\n",
      "\t2023\n"
     ]
    }
   ],
   "source": [
    "print(\"python\\n\\t2023\")"
   ]
  },
  {
   "cell_type": "code",
   "execution_count": 39,
   "id": "0264bcdd-fc9e-484e-9ccc-ac2b931276f1",
   "metadata": {},
   "outputs": [
    {
     "name": "stdout",
     "output_type": "stream",
     "text": [
      "I'm from Entri\n"
     ]
    }
   ],
   "source": [
    "print('I\\'m from Entri.\\b')"
   ]
  },
  {
   "cell_type": "code",
   "execution_count": 40,
   "id": "122f1312-c1f9-4ff9-b558-3a5a9b9cea15",
   "metadata": {},
   "outputs": [
    {
     "name": "stdout",
     "output_type": "stream",
     "text": [
      "5\n"
     ]
    }
   ],
   "source": [
    " print(\"\\65\") "
   ]
  },
  {
   "cell_type": "code",
   "execution_count": 41,
   "id": "2263e358-9df4-4348-bd04-daa9e4488820",
   "metadata": {},
   "outputs": [
    {
     "name": "stdout",
     "output_type": "stream",
     "text": [
      "e\n"
     ]
    }
   ],
   "source": [
    "print(\"\\x65\")"
   ]
  },
  {
   "cell_type": "code",
   "execution_count": 42,
   "id": "a777d3dd-e641-4c07-a13f-78a8478a2f8b",
   "metadata": {},
   "outputs": [
    {
     "name": "stdout",
     "output_type": "stream",
     "text": [
      "Entri\n",
      "2023\n"
     ]
    }
   ],
   "source": [
    "print(\"Entri\", \"2023\", sep=\"\\n\") "
   ]
  },
  {
   "cell_type": "code",
   "execution_count": 43,
   "id": "fdfbb267-b256-4c2f-907c-db75ab0c79ff",
   "metadata": {},
   "outputs": [
    {
     "name": "stdout",
     "output_type": "stream",
     "text": [
      "Entr2023\n"
     ]
    }
   ],
   "source": [
    "print(\"Entri\", \"2023\", sep=\"\\b\")"
   ]
  },
  {
   "cell_type": "code",
   "execution_count": 44,
   "id": "91238bc5-a4c9-403e-b1de-a402a0652b23",
   "metadata": {},
   "outputs": [
    {
     "name": "stdout",
     "output_type": "stream",
     "text": [
      "Entri*20"
     ]
    }
   ],
   "source": [
    "print(\"Entri\", \"2023\", sep=\"*\", end=\"\\b\\b\\b\\b\") "
   ]
  },
  {
   "cell_type": "markdown",
   "id": "8d47a8c5-9caa-4ab4-8ab9-f0d643e1802e",
   "metadata": {},
   "source": [
    " ## Exercise 7"
   ]
  },
  {
   "cell_type": "raw",
   "id": "58032a17-0037-44dd-8edb-48b7594d1281",
   "metadata": {},
   "source": [
    "Define the variables below. Print the types of each variable. What is the sum of your variables? (Hint: use a type conversion function.) What datatype is the sum? num=23 textnum=\"57\" decimal=98.3"
   ]
  },
  {
   "cell_type": "code",
   "execution_count": 45,
   "id": "f75ef6e7-7dad-439d-9363-cc08b3ff40f8",
   "metadata": {},
   "outputs": [],
   "source": [
    "num = 23\n",
    "textnum = \"57\"\n",
    "decimal = 98.3"
   ]
  },
  {
   "cell_type": "code",
   "execution_count": 57,
   "id": "697303d4-a28e-4cb1-a523-9d8b1ce9667c",
   "metadata": {},
   "outputs": [
    {
     "name": "stdout",
     "output_type": "stream",
     "text": [
      "Type of num : <class 'int'>\n"
     ]
    }
   ],
   "source": [
    "print('Type of num :',type(num))"
   ]
  },
  {
   "cell_type": "code",
   "execution_count": 58,
   "id": "637c3bb4-60de-4baa-b684-9a13328e328f",
   "metadata": {},
   "outputs": [
    {
     "name": "stdout",
     "output_type": "stream",
     "text": [
      "Type of textnum : <class 'str'>\n"
     ]
    }
   ],
   "source": [
    "print('Type of textnum :',type(textnum))"
   ]
  },
  {
   "cell_type": "code",
   "execution_count": 59,
   "id": "d80631b5-dc7c-413a-87e6-8d30fcbc2202",
   "metadata": {},
   "outputs": [
    {
     "name": "stdout",
     "output_type": "stream",
     "text": [
      "Type of decimal : <class 'float'>\n"
     ]
    }
   ],
   "source": [
    "print('Type of decimal :',type(decimal))"
   ]
  },
  {
   "cell_type": "code",
   "execution_count": 60,
   "id": "e11f4c36-9c76-4a71-b786-93feda256e47",
   "metadata": {},
   "outputs": [
    {
     "name": "stdout",
     "output_type": "stream",
     "text": [
      "sum = 23 + 57 + 98.3 = 178.3\n"
     ]
    }
   ],
   "source": [
    "sum =(num) + int(textnum) +(decimal)\n",
    "print(f'sum = {num} + {textnum} + {decimal} = {sum}')"
   ]
  },
  {
   "cell_type": "code",
   "execution_count": 62,
   "id": "ae219a70-4909-49d6-9ac8-d0e8874ff77a",
   "metadata": {},
   "outputs": [
    {
     "name": "stdout",
     "output_type": "stream",
     "text": [
      "Type of sum : <class 'float'>\n"
     ]
    }
   ],
   "source": [
    "print('Type of sum :',type(sum))"
   ]
  },
  {
   "cell_type": "markdown",
   "id": "88caba72-4fb6-4f9f-b40c-9fb54244a35c",
   "metadata": {},
   "source": [
    "## Exercise 8"
   ]
  },
  {
   "cell_type": "raw",
   "id": "cab21e9f-80b2-497b-8872-47c281070712",
   "metadata": {},
   "source": [
    "Calculate the number of minutes in a year using variables for each unit of time. print a statement that describes what your code does also. Create three variables to store no of days in a year, minute in a hour, hours in a day, then calculate the total minutes in a year and print the values (hint) total number of minutes in an year =No.of days in an year * Hours in a day * Minutes in an hour "
   ]
  },
  {
   "cell_type": "code",
   "execution_count": 1,
   "id": "af7312ce-0c01-460a-a8d1-547b8a26a1aa",
   "metadata": {},
   "outputs": [
    {
     "name": "stdout",
     "output_type": "stream",
     "text": [
      "The total number of minutes in a year is: 525600 minutes.\n"
     ]
    }
   ],
   "source": [
    "days_in_year = 365          \n",
    "hours_in_day = 24           \n",
    "minutes_in_hour = 60        \n",
    "total_minutes_in_year = days_in_year * hours_in_day * minutes_in_hour\n",
    "print(f\"The total number of minutes in a year is: {total_minutes_in_year} minutes.\")\n"
   ]
  },
  {
   "cell_type": "markdown",
   "id": "935a47aa-74ba-4e36-8626-137ea613d5c0",
   "metadata": {},
   "source": [
    "## Exercise 9"
   ]
  },
  {
   "cell_type": "raw",
   "id": "f972ef01-24a1-4a0d-a918-aa030a9801ae",
   "metadata": {},
   "source": [
    "Write Python code that asks the user to enter his/her name and then output/prints his/her name with a greeting."
   ]
  },
  {
   "cell_type": "code",
   "execution_count": 1,
   "id": "ab6f1bc5-6cd9-4d63-a053-d9959e0f8705",
   "metadata": {},
   "outputs": [
    {
     "name": "stdin",
     "output_type": "stream",
     "text": [
      "Please Enter Your Name Amrutha k\n"
     ]
    },
    {
     "name": "stdout",
     "output_type": "stream",
     "text": [
      "Hi Amrutha k welcome to Python programming\n"
     ]
    }
   ],
   "source": [
    "user_name = input('Please Enter Your Name')\n",
    "print('Hi', user_name, 'welcome to Python programming')"
   ]
  },
  {
   "cell_type": "markdown",
   "id": "308bb5d4-c07c-428f-bac1-d653939de583",
   "metadata": {},
   "source": [
    "## Exercise 10 "
   ]
  },
  {
   "cell_type": "raw",
   "id": "ae37c380-505c-475c-928a-580e22c3f7bb",
   "metadata": {},
   "source": [
    "Name your file: PoundsToDollars.py Write a program that asks the user to enter an amount in pounds (£) and the program calculates and converts an amount in dollar ($)"
   ]
  },
  {
   "cell_type": "code",
   "execution_count": 4,
   "id": "0b7fb1a2-5e72-4e93-be98-18d0ea33ccf7",
   "metadata": {},
   "outputs": [
    {
     "name": "stdin",
     "output_type": "stream",
     "text": [
      "Please Enter Amount in Pounds : 50\n"
     ]
    },
    {
     "name": "stdout",
     "output_type": "stream",
     "text": [
      "50.0 pounds is equal to 61.5 $\n"
     ]
    }
   ],
   "source": [
    "pounds_to_dollar_rate = 1.23\n",
    "pounds = float(input('Please Enter Amount in Pounds :'))\n",
    "dollar = pounds_to_dollar_rate * pounds\n",
    "print(f'{pounds} pounds is equal to {dollar} $')\n",
    "               \n",
    "               "
   ]
  }
 ],
 "metadata": {
  "kernelspec": {
   "display_name": "Python 3 (ipykernel)",
   "language": "python",
   "name": "python3"
  },
  "language_info": {
   "codemirror_mode": {
    "name": "ipython",
    "version": 3
   },
   "file_extension": ".py",
   "mimetype": "text/x-python",
   "name": "python",
   "nbconvert_exporter": "python",
   "pygments_lexer": "ipython3",
   "version": "3.12.7"
  }
 },
 "nbformat": 4,
 "nbformat_minor": 5
}
